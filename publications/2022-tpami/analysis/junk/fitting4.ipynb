{
 "cells": [
  {
   "cell_type": "code",
   "execution_count": 1,
   "metadata": {
    "collapsed": true
   },
   "outputs": [
    {
     "data": {
      "text/plain": "         openmlid                           learner  size_train  size_test  \\\n0               6                        SVC_linear          16       2000   \n1               6                        SVC_linear          23       2000   \n2               6                        SVC_linear          32       2000   \n3               6                        SVC_linear          45       2000   \n4               6                        SVC_linear          64       2000   \n...           ...                               ...         ...        ...   \n1765441      1566  sklearn.tree.ExtraTreeClassifier         181        122   \n1765442      1566  sklearn.tree.ExtraTreeClassifier         256        122   \n1765443      1566  sklearn.tree.ExtraTreeClassifier         362        122   \n1765444      1566  sklearn.tree.ExtraTreeClassifier         512        122   \n1765445      1566  sklearn.tree.ExtraTreeClassifier         981        122   \n\n         outer_seed  inner_seed  score_train  score_valid  score_test  \n0                 0           0       1.0000       0.1728      0.1840  \n1                 0           0       1.0000       0.1939      0.1975  \n2                 0           0       1.0000       0.2400      0.2385  \n3                 0           0       0.9556       0.2478      0.2515  \n4                 0           0       0.9844       0.3150      0.3030  \n...             ...         ...          ...          ...         ...  \n1765441           4           4       1.0000       0.5596      0.4754  \n1765442           4           4       1.0000       0.5138      0.4836  \n1765443           4           4       1.0000       0.6239      0.5984  \n1765444           4           4       1.0000       0.4771      0.5000  \n1765445           4           4       1.0000       0.5780      0.6557  \n\n[1765446 rows x 9 columns]",
      "text/html": "<div>\n<style scoped>\n    .dataframe tbody tr th:only-of-type {\n        vertical-align: middle;\n    }\n\n    .dataframe tbody tr th {\n        vertical-align: top;\n    }\n\n    .dataframe thead th {\n        text-align: right;\n    }\n</style>\n<table border=\"1\" class=\"dataframe\">\n  <thead>\n    <tr style=\"text-align: right;\">\n      <th></th>\n      <th>openmlid</th>\n      <th>learner</th>\n      <th>size_train</th>\n      <th>size_test</th>\n      <th>outer_seed</th>\n      <th>inner_seed</th>\n      <th>score_train</th>\n      <th>score_valid</th>\n      <th>score_test</th>\n    </tr>\n  </thead>\n  <tbody>\n    <tr>\n      <th>0</th>\n      <td>6</td>\n      <td>SVC_linear</td>\n      <td>16</td>\n      <td>2000</td>\n      <td>0</td>\n      <td>0</td>\n      <td>1.0000</td>\n      <td>0.1728</td>\n      <td>0.1840</td>\n    </tr>\n    <tr>\n      <th>1</th>\n      <td>6</td>\n      <td>SVC_linear</td>\n      <td>23</td>\n      <td>2000</td>\n      <td>0</td>\n      <td>0</td>\n      <td>1.0000</td>\n      <td>0.1939</td>\n      <td>0.1975</td>\n    </tr>\n    <tr>\n      <th>2</th>\n      <td>6</td>\n      <td>SVC_linear</td>\n      <td>32</td>\n      <td>2000</td>\n      <td>0</td>\n      <td>0</td>\n      <td>1.0000</td>\n      <td>0.2400</td>\n      <td>0.2385</td>\n    </tr>\n    <tr>\n      <th>3</th>\n      <td>6</td>\n      <td>SVC_linear</td>\n      <td>45</td>\n      <td>2000</td>\n      <td>0</td>\n      <td>0</td>\n      <td>0.9556</td>\n      <td>0.2478</td>\n      <td>0.2515</td>\n    </tr>\n    <tr>\n      <th>4</th>\n      <td>6</td>\n      <td>SVC_linear</td>\n      <td>64</td>\n      <td>2000</td>\n      <td>0</td>\n      <td>0</td>\n      <td>0.9844</td>\n      <td>0.3150</td>\n      <td>0.3030</td>\n    </tr>\n    <tr>\n      <th>...</th>\n      <td>...</td>\n      <td>...</td>\n      <td>...</td>\n      <td>...</td>\n      <td>...</td>\n      <td>...</td>\n      <td>...</td>\n      <td>...</td>\n      <td>...</td>\n    </tr>\n    <tr>\n      <th>1765441</th>\n      <td>1566</td>\n      <td>sklearn.tree.ExtraTreeClassifier</td>\n      <td>181</td>\n      <td>122</td>\n      <td>4</td>\n      <td>4</td>\n      <td>1.0000</td>\n      <td>0.5596</td>\n      <td>0.4754</td>\n    </tr>\n    <tr>\n      <th>1765442</th>\n      <td>1566</td>\n      <td>sklearn.tree.ExtraTreeClassifier</td>\n      <td>256</td>\n      <td>122</td>\n      <td>4</td>\n      <td>4</td>\n      <td>1.0000</td>\n      <td>0.5138</td>\n      <td>0.4836</td>\n    </tr>\n    <tr>\n      <th>1765443</th>\n      <td>1566</td>\n      <td>sklearn.tree.ExtraTreeClassifier</td>\n      <td>362</td>\n      <td>122</td>\n      <td>4</td>\n      <td>4</td>\n      <td>1.0000</td>\n      <td>0.6239</td>\n      <td>0.5984</td>\n    </tr>\n    <tr>\n      <th>1765444</th>\n      <td>1566</td>\n      <td>sklearn.tree.ExtraTreeClassifier</td>\n      <td>512</td>\n      <td>122</td>\n      <td>4</td>\n      <td>4</td>\n      <td>1.0000</td>\n      <td>0.4771</td>\n      <td>0.5000</td>\n    </tr>\n    <tr>\n      <th>1765445</th>\n      <td>1566</td>\n      <td>sklearn.tree.ExtraTreeClassifier</td>\n      <td>981</td>\n      <td>122</td>\n      <td>4</td>\n      <td>4</td>\n      <td>1.0000</td>\n      <td>0.5780</td>\n      <td>0.6557</td>\n    </tr>\n  </tbody>\n</table>\n<p>1765446 rows × 9 columns</p>\n</div>"
     },
     "execution_count": 1,
     "metadata": {},
     "output_type": "execute_result"
    }
   ],
   "source": [
    "import pandas as pd\n",
    "\n",
    "df_all = pd.read_csv(\"lcdb_new.csv\")\n",
    "df_all"
   ]
  },
  {
   "cell_type": "code",
   "execution_count": 3,
   "outputs": [
    {
     "data": {
      "text/plain": "int"
     },
     "execution_count": 3,
     "metadata": {},
     "output_type": "execute_result"
    }
   ],
   "source": [
    "type(hash('3'))"
   ],
   "metadata": {
    "collapsed": false,
    "pycharm": {
     "name": "#%%\n"
    }
   }
  },
  {
   "cell_type": "code",
   "execution_count": 6,
   "outputs": [
    {
     "data": {
      "text/plain": "array([0.93848521])"
     },
     "execution_count": 6,
     "metadata": {},
     "output_type": "execute_result"
    }
   ],
   "source": [
    "import numpy as np\n",
    "from hashlib import sha256\n",
    "\n",
    "openmlid = 123\n",
    "learner = 'tree'\n",
    "model_name = 'pow2'\n",
    "offset = 0\n",
    "\n",
    "experiment_id = '%d-%s-%s-%d' % (openmlid,learner,model_name,offset)\n",
    "\n",
    "hash = sha256(experiment_id.encode())\n",
    "seed = np.frombuffer(hash.digest(), dtype='uint32')\n",
    "np.random.seed(seed)\n",
    "\n",
    "np.random.rand(1)"
   ],
   "metadata": {
    "collapsed": false,
    "pycharm": {
     "name": "#%%\n"
    }
   }
  }
 ],
 "metadata": {
  "kernelspec": {
   "display_name": "Python 3",
   "language": "python",
   "name": "python3"
  },
  "language_info": {
   "codemirror_mode": {
    "name": "ipython",
    "version": 2
   },
   "file_extension": ".py",
   "mimetype": "text/x-python",
   "name": "python",
   "nbconvert_exporter": "python",
   "pygments_lexer": "ipython2",
   "version": "2.7.6"
  }
 },
 "nbformat": 4,
 "nbformat_minor": 0
}