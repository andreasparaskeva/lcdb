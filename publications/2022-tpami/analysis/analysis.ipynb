{
 "cells": [
  {
   "cell_type": "code",
   "execution_count": 31,
   "id": "5faf3ea5",
   "metadata": {},
   "outputs": [],
   "source": [
    "import numpy as np\n",
    "import pandas as pd\n",
    "from tqdm.notebook import tqdm"
   ]
  },
  {
   "cell_type": "code",
   "execution_count": 2,
   "id": "abd3accd",
   "metadata": {},
   "outputs": [
    {
     "data": {
      "text/html": [
       "<div>\n",
       "<style scoped>\n",
       "    .dataframe tbody tr th:only-of-type {\n",
       "        vertical-align: middle;\n",
       "    }\n",
       "\n",
       "    .dataframe tbody tr th {\n",
       "        vertical-align: top;\n",
       "    }\n",
       "\n",
       "    .dataframe thead th {\n",
       "        text-align: right;\n",
       "    }\n",
       "</style>\n",
       "<table border=\"1\" class=\"dataframe\">\n",
       "  <thead>\n",
       "    <tr style=\"text-align: right;\">\n",
       "      <th></th>\n",
       "      <th>openmlid</th>\n",
       "      <th>learner</th>\n",
       "      <th>size_train</th>\n",
       "      <th>size_test</th>\n",
       "      <th>outer_seed</th>\n",
       "      <th>inner_seed</th>\n",
       "      <th>score_train</th>\n",
       "      <th>score_valid</th>\n",
       "      <th>score_test</th>\n",
       "    </tr>\n",
       "  </thead>\n",
       "  <tbody>\n",
       "    <tr>\n",
       "      <th>0</th>\n",
       "      <td>6</td>\n",
       "      <td>SVC_linear</td>\n",
       "      <td>16</td>\n",
       "      <td>2000</td>\n",
       "      <td>0</td>\n",
       "      <td>0</td>\n",
       "      <td>1.0000</td>\n",
       "      <td>0.1728</td>\n",
       "      <td>0.1840</td>\n",
       "    </tr>\n",
       "    <tr>\n",
       "      <th>1</th>\n",
       "      <td>6</td>\n",
       "      <td>SVC_linear</td>\n",
       "      <td>23</td>\n",
       "      <td>2000</td>\n",
       "      <td>0</td>\n",
       "      <td>0</td>\n",
       "      <td>1.0000</td>\n",
       "      <td>0.1939</td>\n",
       "      <td>0.1975</td>\n",
       "    </tr>\n",
       "    <tr>\n",
       "      <th>2</th>\n",
       "      <td>6</td>\n",
       "      <td>SVC_linear</td>\n",
       "      <td>32</td>\n",
       "      <td>2000</td>\n",
       "      <td>0</td>\n",
       "      <td>0</td>\n",
       "      <td>1.0000</td>\n",
       "      <td>0.2400</td>\n",
       "      <td>0.2385</td>\n",
       "    </tr>\n",
       "    <tr>\n",
       "      <th>3</th>\n",
       "      <td>6</td>\n",
       "      <td>SVC_linear</td>\n",
       "      <td>45</td>\n",
       "      <td>2000</td>\n",
       "      <td>0</td>\n",
       "      <td>0</td>\n",
       "      <td>0.9556</td>\n",
       "      <td>0.2478</td>\n",
       "      <td>0.2515</td>\n",
       "    </tr>\n",
       "    <tr>\n",
       "      <th>4</th>\n",
       "      <td>6</td>\n",
       "      <td>SVC_linear</td>\n",
       "      <td>64</td>\n",
       "      <td>2000</td>\n",
       "      <td>0</td>\n",
       "      <td>0</td>\n",
       "      <td>0.9844</td>\n",
       "      <td>0.3150</td>\n",
       "      <td>0.3030</td>\n",
       "    </tr>\n",
       "    <tr>\n",
       "      <th>...</th>\n",
       "      <td>...</td>\n",
       "      <td>...</td>\n",
       "      <td>...</td>\n",
       "      <td>...</td>\n",
       "      <td>...</td>\n",
       "      <td>...</td>\n",
       "      <td>...</td>\n",
       "      <td>...</td>\n",
       "      <td>...</td>\n",
       "    </tr>\n",
       "    <tr>\n",
       "      <th>1006352</th>\n",
       "      <td>722</td>\n",
       "      <td>sklearn.tree.ExtraTreeClassifier</td>\n",
       "      <td>2896</td>\n",
       "      <td>1500</td>\n",
       "      <td>4</td>\n",
       "      <td>4</td>\n",
       "      <td>1.0000</td>\n",
       "      <td>0.8800</td>\n",
       "      <td>0.8913</td>\n",
       "    </tr>\n",
       "    <tr>\n",
       "      <th>1006353</th>\n",
       "      <td>722</td>\n",
       "      <td>sklearn.tree.ExtraTreeClassifier</td>\n",
       "      <td>4096</td>\n",
       "      <td>1500</td>\n",
       "      <td>4</td>\n",
       "      <td>4</td>\n",
       "      <td>1.0000</td>\n",
       "      <td>0.8933</td>\n",
       "      <td>0.8987</td>\n",
       "    </tr>\n",
       "    <tr>\n",
       "      <th>1006354</th>\n",
       "      <td>722</td>\n",
       "      <td>sklearn.tree.ExtraTreeClassifier</td>\n",
       "      <td>5793</td>\n",
       "      <td>1500</td>\n",
       "      <td>4</td>\n",
       "      <td>4</td>\n",
       "      <td>1.0000</td>\n",
       "      <td>0.9141</td>\n",
       "      <td>0.9273</td>\n",
       "    </tr>\n",
       "    <tr>\n",
       "      <th>1006355</th>\n",
       "      <td>722</td>\n",
       "      <td>sklearn.tree.ExtraTreeClassifier</td>\n",
       "      <td>8192</td>\n",
       "      <td>1500</td>\n",
       "      <td>4</td>\n",
       "      <td>4</td>\n",
       "      <td>1.0000</td>\n",
       "      <td>0.9059</td>\n",
       "      <td>0.8987</td>\n",
       "    </tr>\n",
       "    <tr>\n",
       "      <th>1006356</th>\n",
       "      <td>722</td>\n",
       "      <td>sklearn.tree.ExtraTreeClassifier</td>\n",
       "      <td>12150</td>\n",
       "      <td>1500</td>\n",
       "      <td>4</td>\n",
       "      <td>4</td>\n",
       "      <td>1.0000</td>\n",
       "      <td>0.9089</td>\n",
       "      <td>0.9080</td>\n",
       "    </tr>\n",
       "  </tbody>\n",
       "</table>\n",
       "<p>1006357 rows × 9 columns</p>\n",
       "</div>"
      ],
      "text/plain": [
       "         openmlid                           learner  size_train  size_test  \\\n",
       "0               6                        SVC_linear          16       2000   \n",
       "1               6                        SVC_linear          23       2000   \n",
       "2               6                        SVC_linear          32       2000   \n",
       "3               6                        SVC_linear          45       2000   \n",
       "4               6                        SVC_linear          64       2000   \n",
       "...           ...                               ...         ...        ...   \n",
       "1006352       722  sklearn.tree.ExtraTreeClassifier        2896       1500   \n",
       "1006353       722  sklearn.tree.ExtraTreeClassifier        4096       1500   \n",
       "1006354       722  sklearn.tree.ExtraTreeClassifier        5793       1500   \n",
       "1006355       722  sklearn.tree.ExtraTreeClassifier        8192       1500   \n",
       "1006356       722  sklearn.tree.ExtraTreeClassifier       12150       1500   \n",
       "\n",
       "         outer_seed  inner_seed  score_train  score_valid  score_test  \n",
       "0                 0           0       1.0000       0.1728      0.1840  \n",
       "1                 0           0       1.0000       0.1939      0.1975  \n",
       "2                 0           0       1.0000       0.2400      0.2385  \n",
       "3                 0           0       0.9556       0.2478      0.2515  \n",
       "4                 0           0       0.9844       0.3150      0.3030  \n",
       "...             ...         ...          ...          ...         ...  \n",
       "1006352           4           4       1.0000       0.8800      0.8913  \n",
       "1006353           4           4       1.0000       0.8933      0.8987  \n",
       "1006354           4           4       1.0000       0.9141      0.9273  \n",
       "1006355           4           4       1.0000       0.9059      0.8987  \n",
       "1006356           4           4       1.0000       0.9089      0.9080  \n",
       "\n",
       "[1006357 rows x 9 columns]"
      ]
     },
     "execution_count": 2,
     "metadata": {},
     "output_type": "execute_result"
    }
   ],
   "source": [
    "df = pd.read_csv(\"lcdb.csv\")\n",
    "df"
   ]
  },
  {
   "cell_type": "code",
   "execution_count": null,
   "id": "417e6574",
   "metadata": {},
   "outputs": [],
   "source": []
  },
  {
   "cell_type": "code",
   "execution_count": 54,
   "id": "5faace66",
   "metadata": {},
   "outputs": [],
   "source": [
    "import scipy as sp\n",
    "\n",
    "def get_ipl(sizes, scores):\n",
    "    def ipl(beta):\n",
    "        a, b, c = tuple(beta.astype(float))\n",
    "        pl = lambda x: a - b * x **(-c)\n",
    "        penalty = []\n",
    "        for i, size in enumerate(sizes):\n",
    "            penalty.append((pl(size) - scores[i])**2)\n",
    "        return np.array(penalty)\n",
    "\n",
    "    a, b, c = tuple(sp.optimize.least_squares(ipl, np.array([1,1,1]), method=\"lm\").x)\n",
    "    return a, b, c, lambda x: a - b * x **(-c)\n",
    "\n",
    "def get_vp(sizes, scores):\n",
    "    def vp(beta):\n",
    "        a, b, c = tuple(beta.astype(float))\n",
    "        fun = lambda x: np.exp(a + b/x + c * np.log(x))\n",
    "        penalty = []\n",
    "        for i, size in enumerate(sizes):\n",
    "            penalty.append((fun(size) - scores[i])**2)\n",
    "        return np.array(penalty)\n",
    "\n",
    "    a, b, c = tuple(sp.optimize.least_squares(vp, np.array([1,1,1]), method=\"lm\").x)\n",
    "    return a, b, c, lambda x: np.exp(a + b/x + c * np.log(x))\n",
    "\n",
    "\n",
    "def get_mmf(sizes, scores):\n",
    "    def mmf(beta):\n",
    "        a, b, c, d = tuple(beta.astype(float))\n",
    "        fun = lambda x: (a * b + c * x ** d)/(b + x ** d)\n",
    "        penalty = []\n",
    "        for i, size in enumerate(sizes):\n",
    "            penalty.append((fun(size) - scores[i])**2)\n",
    "        return np.array(penalty)\n",
    "\n",
    "    a, b, c, d = tuple(sp.optimize.least_squares(mmf, np.array([1,1,1,1]), method=\"lm\").x)\n",
    "    return a, b, c, d, lambda x: (a * b + c * x ** d)/(b + x ** d)\n",
    "\n",
    "\n",
    "def get_logpower(sizes, scores):\n",
    "    def logpower(beta):\n",
    "        a, b, c = tuple(beta.astype(float))\n",
    "        fun = lambda x: a / (1 + (x / np.exp(b))**c)\n",
    "        penalty = []\n",
    "        for i, size in enumerate(sizes):\n",
    "            penalty.append((fun(size) - scores[i])**2)\n",
    "        return np.array(penalty)\n",
    "\n",
    "    a, b, c = tuple(sp.optimize.least_squares(logpower, np.array([1,1,1]), method=\"lm\").x)\n",
    "    return a, b, c, lambda x: a / (1 + (x / np.exp(b))**c)"
   ]
  },
  {
   "cell_type": "code",
   "execution_count": 103,
   "id": "effe798f",
   "metadata": {
    "scrolled": true
   },
   "outputs": [
    {
     "data": {
      "application/vnd.jupyter.widget-view+json": {
       "model_id": "81089431241544b89cec4cb34037b37d",
       "version_major": 2,
       "version_minor": 0
      },
      "text/plain": [
       "  0%|          | 0/50000 [00:00<?, ?it/s]"
      ]
     },
     "metadata": {},
     "output_type": "display_data"
    },
    {
     "name": "stderr",
     "output_type": "stream",
     "text": [
      "/home/felix/anaconda3/lib/python3.7/site-packages/ipykernel_launcher.py:9: RuntimeWarning: overflow encountered in double_scalars\n",
      "  if __name__ == '__main__':\n",
      "/home/felix/anaconda3/lib/python3.7/site-packages/ipykernel_launcher.py:6: RuntimeWarning: overflow encountered in power\n",
      "  \n",
      "/home/felix/anaconda3/lib/python3.7/site-packages/ipykernel_launcher.py:6: RuntimeWarning: overflow encountered in double_scalars\n",
      "  \n"
     ]
    }
   ],
   "source": [
    "import sklearn.metrics\n",
    "\n",
    "def get_extrapolation_predictions(df, extrapolation_fun):\n",
    "    rows = []\n",
    "    pbar = tqdm(total = len(pd.unique(df[\"openmlid\"])) * len(pd.unique(df[\"learner\"])) * 25)\n",
    "    for openmlid, df_dataset in df.groupby(\"openmlid\"):\n",
    "        for learner, df_learner in df_dataset.groupby(\"learner\"):\n",
    "            for (inner, outer), df_seeded in df_learner.groupby([\"inner_seed\", \"outer_seed\"]):\n",
    "                sizes, scores = df_seeded[\"size_train\"].values, df_seeded[\"score_valid\"].values\n",
    "                for offset in range(4, len(sizes)):\n",
    "                    model = extrapolation_fun(sizes[:offset], scores[:offset])[-1]\n",
    "                    predictions = np.round(model(sizes), 4)\n",
    "                    rows.append([openmlid, learner, outer, inner, sizes[offset - 1], sizes, scores, predictions])\n",
    "                pbar.update(1)\n",
    "    pbar.close()\n",
    "    return pd.DataFrame(rows, columns=[\"openmlid\", \"learner\", \"outer_seed\", \"inner_seed\", \"max_anchor_seen\",\"anchor_prediction\", \"score\", \"prediction\"])"
   ]
  },
  {
   "cell_type": "code",
   "execution_count": 101,
   "id": "7d04d969",
   "metadata": {},
   "outputs": [
    {
     "data": {
      "application/vnd.jupyter.widget-view+json": {
       "model_id": "0ceb55487eff4fa098481e59562fef05",
       "version_major": 2,
       "version_minor": 0
      },
      "text/plain": [
       "  0%|          | 0/25 [00:00<?, ?it/s]"
      ]
     },
     "metadata": {},
     "output_type": "display_data"
    }
   ],
   "source": [
    "df_ipl = get_extrapolation_predictions(df.query(\"inner_seed < 5\"), get_ipl)"
   ]
  },
  {
   "cell_type": "code",
   "execution_count": 108,
   "id": "d30f1e6d",
   "metadata": {},
   "outputs": [],
   "source": [
    "#df_1[\"error\"] = [sklearn.metrics.mean_squared_error([y_true], [y_hat]) for y_true, y_hat in zip(df_1[\"score\"], df_1[\"prediction\"])]\n",
    "df_ipl.to_csv(\"fit_results_ipl_3.csv\", index=False, sep=\";\")"
   ]
  },
  {
   "cell_type": "code",
   "execution_count": 109,
   "id": "bef15d42",
   "metadata": {},
   "outputs": [
    {
     "data": {
      "application/vnd.jupyter.widget-view+json": {
       "model_id": "6093d14483804007b2fb1808f43bd58d",
       "version_major": 2,
       "version_minor": 0
      },
      "text/plain": [
       "  0%|          | 0/50000 [00:00<?, ?it/s]"
      ]
     },
     "metadata": {},
     "output_type": "display_data"
    }
   ],
   "source": [
    "df_vp = get_extrapolation_predictions(df.query(\"inner_seed < 5\"), get_vp)"
   ]
  },
  {
   "cell_type": "code",
   "execution_count": 110,
   "id": "350cdafc",
   "metadata": {},
   "outputs": [],
   "source": [
    "df_vp.to_csv(\"fit_results_vp.csv\", index=False, sep=\";\")"
   ]
  },
  {
   "cell_type": "code",
   "execution_count": null,
   "id": "7ea09536",
   "metadata": {},
   "outputs": [],
   "source": []
  },
  {
   "cell_type": "code",
   "execution_count": 112,
   "id": "79079385",
   "metadata": {
    "scrolled": true
   },
   "outputs": [
    {
     "data": {
      "application/vnd.jupyter.widget-view+json": {
       "model_id": "f9116fe7e24c4aedb2e547d301ca8371",
       "version_major": 2,
       "version_minor": 0
      },
      "text/plain": [
       "  0%|          | 0/50000 [00:00<?, ?it/s]"
      ]
     },
     "metadata": {},
     "output_type": "display_data"
    },
    {
     "name": "stderr",
     "output_type": "stream",
     "text": [
      "/home/felix/anaconda3/lib/python3.7/site-packages/ipykernel_launcher.py:38: RuntimeWarning: overflow encountered in power\n",
      "/home/felix/anaconda3/lib/python3.7/site-packages/ipykernel_launcher.py:38: RuntimeWarning: invalid value encountered in true_divide\n",
      "/home/felix/anaconda3/lib/python3.7/site-packages/ipykernel_launcher.py:31: RuntimeWarning: overflow encountered in power\n",
      "/home/felix/anaconda3/lib/python3.7/site-packages/ipykernel_launcher.py:31: RuntimeWarning: invalid value encountered in double_scalars\n"
     ]
    },
    {
     "ename": "KeyboardInterrupt",
     "evalue": "",
     "output_type": "error",
     "traceback": [
      "\u001b[0;31m---------------------------------------------------------------------------\u001b[0m",
      "\u001b[0;31mKeyboardInterrupt\u001b[0m                         Traceback (most recent call last)",
      "\u001b[0;32m<ipython-input-112-a96aea5e0df1>\u001b[0m in \u001b[0;36m<module>\u001b[0;34m\u001b[0m\n\u001b[0;32m----> 1\u001b[0;31m \u001b[0mdf_mmf\u001b[0m \u001b[0;34m=\u001b[0m \u001b[0mget_extrapolation_predictions\u001b[0m\u001b[0;34m(\u001b[0m\u001b[0mdf\u001b[0m\u001b[0;34m.\u001b[0m\u001b[0mquery\u001b[0m\u001b[0;34m(\u001b[0m\u001b[0;34m\"inner_seed < 5\"\u001b[0m\u001b[0;34m)\u001b[0m\u001b[0;34m,\u001b[0m \u001b[0mget_mmf\u001b[0m\u001b[0;34m)\u001b[0m\u001b[0;34m\u001b[0m\u001b[0;34m\u001b[0m\u001b[0m\n\u001b[0m",
      "\u001b[0;32m<ipython-input-103-4962015d2963>\u001b[0m in \u001b[0;36mget_extrapolation_predictions\u001b[0;34m(df, extrapolation_fun)\u001b[0m\n\u001b[1;32m      9\u001b[0m                 \u001b[0msizes\u001b[0m\u001b[0;34m,\u001b[0m \u001b[0mscores\u001b[0m \u001b[0;34m=\u001b[0m \u001b[0mdf_seeded\u001b[0m\u001b[0;34m[\u001b[0m\u001b[0;34m\"size_train\"\u001b[0m\u001b[0;34m]\u001b[0m\u001b[0;34m.\u001b[0m\u001b[0mvalues\u001b[0m\u001b[0;34m,\u001b[0m \u001b[0mdf_seeded\u001b[0m\u001b[0;34m[\u001b[0m\u001b[0;34m\"score_valid\"\u001b[0m\u001b[0;34m]\u001b[0m\u001b[0;34m.\u001b[0m\u001b[0mvalues\u001b[0m\u001b[0;34m\u001b[0m\u001b[0;34m\u001b[0m\u001b[0m\n\u001b[1;32m     10\u001b[0m                 \u001b[0;32mfor\u001b[0m \u001b[0moffset\u001b[0m \u001b[0;32min\u001b[0m \u001b[0mrange\u001b[0m\u001b[0;34m(\u001b[0m\u001b[0;36m4\u001b[0m\u001b[0;34m,\u001b[0m \u001b[0mlen\u001b[0m\u001b[0;34m(\u001b[0m\u001b[0msizes\u001b[0m\u001b[0;34m)\u001b[0m\u001b[0;34m)\u001b[0m\u001b[0;34m:\u001b[0m\u001b[0;34m\u001b[0m\u001b[0;34m\u001b[0m\u001b[0m\n\u001b[0;32m---> 11\u001b[0;31m                     \u001b[0mmodel\u001b[0m \u001b[0;34m=\u001b[0m \u001b[0mextrapolation_fun\u001b[0m\u001b[0;34m(\u001b[0m\u001b[0msizes\u001b[0m\u001b[0;34m[\u001b[0m\u001b[0;34m:\u001b[0m\u001b[0moffset\u001b[0m\u001b[0;34m]\u001b[0m\u001b[0;34m,\u001b[0m \u001b[0mscores\u001b[0m\u001b[0;34m[\u001b[0m\u001b[0;34m:\u001b[0m\u001b[0moffset\u001b[0m\u001b[0;34m]\u001b[0m\u001b[0;34m)\u001b[0m\u001b[0;34m[\u001b[0m\u001b[0;34m-\u001b[0m\u001b[0;36m1\u001b[0m\u001b[0;34m]\u001b[0m\u001b[0;34m\u001b[0m\u001b[0;34m\u001b[0m\u001b[0m\n\u001b[0m\u001b[1;32m     12\u001b[0m                     \u001b[0mpredictions\u001b[0m \u001b[0;34m=\u001b[0m \u001b[0mnp\u001b[0m\u001b[0;34m.\u001b[0m\u001b[0mround\u001b[0m\u001b[0;34m(\u001b[0m\u001b[0mmodel\u001b[0m\u001b[0;34m(\u001b[0m\u001b[0msizes\u001b[0m\u001b[0;34m)\u001b[0m\u001b[0;34m,\u001b[0m \u001b[0;36m4\u001b[0m\u001b[0;34m)\u001b[0m\u001b[0;34m\u001b[0m\u001b[0;34m\u001b[0m\u001b[0m\n\u001b[1;32m     13\u001b[0m                     \u001b[0mrows\u001b[0m\u001b[0;34m.\u001b[0m\u001b[0mappend\u001b[0m\u001b[0;34m(\u001b[0m\u001b[0;34m[\u001b[0m\u001b[0mopenmlid\u001b[0m\u001b[0;34m,\u001b[0m \u001b[0mlearner\u001b[0m\u001b[0;34m,\u001b[0m \u001b[0mouter\u001b[0m\u001b[0;34m,\u001b[0m \u001b[0minner\u001b[0m\u001b[0;34m,\u001b[0m \u001b[0msizes\u001b[0m\u001b[0;34m[\u001b[0m\u001b[0moffset\u001b[0m \u001b[0;34m-\u001b[0m \u001b[0;36m1\u001b[0m\u001b[0;34m]\u001b[0m\u001b[0;34m,\u001b[0m \u001b[0msizes\u001b[0m\u001b[0;34m,\u001b[0m \u001b[0mscores\u001b[0m\u001b[0;34m,\u001b[0m \u001b[0mpredictions\u001b[0m\u001b[0;34m]\u001b[0m\u001b[0;34m)\u001b[0m\u001b[0;34m\u001b[0m\u001b[0;34m\u001b[0m\u001b[0m\n",
      "\u001b[0;32m<ipython-input-54-9b45b7c5a999>\u001b[0m in \u001b[0;36mget_mmf\u001b[0;34m(sizes, scores)\u001b[0m\n\u001b[1;32m     35\u001b[0m         \u001b[0;32mreturn\u001b[0m \u001b[0mnp\u001b[0m\u001b[0;34m.\u001b[0m\u001b[0marray\u001b[0m\u001b[0;34m(\u001b[0m\u001b[0mpenalty\u001b[0m\u001b[0;34m)\u001b[0m\u001b[0;34m\u001b[0m\u001b[0;34m\u001b[0m\u001b[0m\n\u001b[1;32m     36\u001b[0m \u001b[0;34m\u001b[0m\u001b[0m\n\u001b[0;32m---> 37\u001b[0;31m     \u001b[0ma\u001b[0m\u001b[0;34m,\u001b[0m \u001b[0mb\u001b[0m\u001b[0;34m,\u001b[0m \u001b[0mc\u001b[0m\u001b[0;34m,\u001b[0m \u001b[0md\u001b[0m \u001b[0;34m=\u001b[0m \u001b[0mtuple\u001b[0m\u001b[0;34m(\u001b[0m\u001b[0msp\u001b[0m\u001b[0;34m.\u001b[0m\u001b[0moptimize\u001b[0m\u001b[0;34m.\u001b[0m\u001b[0mleast_squares\u001b[0m\u001b[0;34m(\u001b[0m\u001b[0mmmf\u001b[0m\u001b[0;34m,\u001b[0m \u001b[0mnp\u001b[0m\u001b[0;34m.\u001b[0m\u001b[0marray\u001b[0m\u001b[0;34m(\u001b[0m\u001b[0;34m[\u001b[0m\u001b[0;36m1\u001b[0m\u001b[0;34m,\u001b[0m\u001b[0;36m1\u001b[0m\u001b[0;34m,\u001b[0m\u001b[0;36m1\u001b[0m\u001b[0;34m,\u001b[0m\u001b[0;36m1\u001b[0m\u001b[0;34m]\u001b[0m\u001b[0;34m)\u001b[0m\u001b[0;34m,\u001b[0m \u001b[0mmethod\u001b[0m\u001b[0;34m=\u001b[0m\u001b[0;34m\"lm\"\u001b[0m\u001b[0;34m)\u001b[0m\u001b[0;34m.\u001b[0m\u001b[0mx\u001b[0m\u001b[0;34m)\u001b[0m\u001b[0;34m\u001b[0m\u001b[0;34m\u001b[0m\u001b[0m\n\u001b[0m\u001b[1;32m     38\u001b[0m     \u001b[0;32mreturn\u001b[0m \u001b[0ma\u001b[0m\u001b[0;34m,\u001b[0m \u001b[0mb\u001b[0m\u001b[0;34m,\u001b[0m \u001b[0mc\u001b[0m\u001b[0;34m,\u001b[0m \u001b[0md\u001b[0m\u001b[0;34m,\u001b[0m \u001b[0;32mlambda\u001b[0m \u001b[0mx\u001b[0m\u001b[0;34m:\u001b[0m \u001b[0;34m(\u001b[0m\u001b[0ma\u001b[0m \u001b[0;34m*\u001b[0m \u001b[0mb\u001b[0m \u001b[0;34m+\u001b[0m \u001b[0mc\u001b[0m \u001b[0;34m*\u001b[0m \u001b[0mx\u001b[0m \u001b[0;34m**\u001b[0m \u001b[0md\u001b[0m\u001b[0;34m)\u001b[0m\u001b[0;34m/\u001b[0m\u001b[0;34m(\u001b[0m\u001b[0mb\u001b[0m \u001b[0;34m+\u001b[0m \u001b[0mx\u001b[0m \u001b[0;34m**\u001b[0m \u001b[0md\u001b[0m\u001b[0;34m)\u001b[0m\u001b[0;34m\u001b[0m\u001b[0;34m\u001b[0m\u001b[0m\n\u001b[1;32m     39\u001b[0m \u001b[0;34m\u001b[0m\u001b[0m\n",
      "\u001b[0;32m~/anaconda3/lib/python3.7/site-packages/scipy/optimize/_lsq/least_squares.py\u001b[0m in \u001b[0;36mleast_squares\u001b[0;34m(fun, x0, jac, bounds, method, ftol, xtol, gtol, x_scale, loss, f_scale, diff_step, tr_solver, tr_options, jac_sparsity, max_nfev, verbose, args, kwargs)\u001b[0m\n\u001b[1;32m    923\u001b[0m     \u001b[0;32mif\u001b[0m \u001b[0mmethod\u001b[0m \u001b[0;34m==\u001b[0m \u001b[0;34m'lm'\u001b[0m\u001b[0;34m:\u001b[0m\u001b[0;34m\u001b[0m\u001b[0;34m\u001b[0m\u001b[0m\n\u001b[1;32m    924\u001b[0m         result = call_minpack(fun_wrapped, x0, jac_wrapped, ftol, xtol, gtol,\n\u001b[0;32m--> 925\u001b[0;31m                               max_nfev, x_scale, diff_step)\n\u001b[0m\u001b[1;32m    926\u001b[0m \u001b[0;34m\u001b[0m\u001b[0m\n\u001b[1;32m    927\u001b[0m     \u001b[0;32melif\u001b[0m \u001b[0mmethod\u001b[0m \u001b[0;34m==\u001b[0m \u001b[0;34m'trf'\u001b[0m\u001b[0;34m:\u001b[0m\u001b[0;34m\u001b[0m\u001b[0;34m\u001b[0m\u001b[0m\n",
      "\u001b[0;32m~/anaconda3/lib/python3.7/site-packages/scipy/optimize/_lsq/least_squares.py\u001b[0m in \u001b[0;36mcall_minpack\u001b[0;34m(fun, x0, jac, ftol, xtol, gtol, max_nfev, x_scale, diff_step)\u001b[0m\n\u001b[1;32m     62\u001b[0m         x, info, status = _minpack._lmdif(\n\u001b[1;32m     63\u001b[0m             \u001b[0mfun\u001b[0m\u001b[0;34m,\u001b[0m \u001b[0mx0\u001b[0m\u001b[0;34m,\u001b[0m \u001b[0;34m(\u001b[0m\u001b[0;34m)\u001b[0m\u001b[0;34m,\u001b[0m \u001b[0mfull_output\u001b[0m\u001b[0;34m,\u001b[0m \u001b[0mftol\u001b[0m\u001b[0;34m,\u001b[0m \u001b[0mxtol\u001b[0m\u001b[0;34m,\u001b[0m \u001b[0mgtol\u001b[0m\u001b[0;34m,\u001b[0m\u001b[0;34m\u001b[0m\u001b[0;34m\u001b[0m\u001b[0m\n\u001b[0;32m---> 64\u001b[0;31m             max_nfev, epsfcn, factor, diag)\n\u001b[0m\u001b[1;32m     65\u001b[0m     \u001b[0;32melse\u001b[0m\u001b[0;34m:\u001b[0m\u001b[0;34m\u001b[0m\u001b[0;34m\u001b[0m\u001b[0m\n\u001b[1;32m     66\u001b[0m         \u001b[0;32mif\u001b[0m \u001b[0mmax_nfev\u001b[0m \u001b[0;32mis\u001b[0m \u001b[0;32mNone\u001b[0m\u001b[0;34m:\u001b[0m\u001b[0;34m\u001b[0m\u001b[0;34m\u001b[0m\u001b[0m\n",
      "\u001b[0;32m~/anaconda3/lib/python3.7/site-packages/scipy/optimize/_lsq/least_squares.py\u001b[0m in \u001b[0;36mfun_wrapped\u001b[0;34m(x)\u001b[0m\n\u001b[1;32m    813\u001b[0m \u001b[0;34m\u001b[0m\u001b[0m\n\u001b[1;32m    814\u001b[0m     \u001b[0;32mdef\u001b[0m \u001b[0mfun_wrapped\u001b[0m\u001b[0;34m(\u001b[0m\u001b[0mx\u001b[0m\u001b[0;34m)\u001b[0m\u001b[0;34m:\u001b[0m\u001b[0;34m\u001b[0m\u001b[0;34m\u001b[0m\u001b[0m\n\u001b[0;32m--> 815\u001b[0;31m         \u001b[0;32mreturn\u001b[0m \u001b[0mnp\u001b[0m\u001b[0;34m.\u001b[0m\u001b[0matleast_1d\u001b[0m\u001b[0;34m(\u001b[0m\u001b[0mfun\u001b[0m\u001b[0;34m(\u001b[0m\u001b[0mx\u001b[0m\u001b[0;34m,\u001b[0m \u001b[0;34m*\u001b[0m\u001b[0margs\u001b[0m\u001b[0;34m,\u001b[0m \u001b[0;34m**\u001b[0m\u001b[0mkwargs\u001b[0m\u001b[0;34m)\u001b[0m\u001b[0;34m)\u001b[0m\u001b[0;34m\u001b[0m\u001b[0;34m\u001b[0m\u001b[0m\n\u001b[0m\u001b[1;32m    816\u001b[0m \u001b[0;34m\u001b[0m\u001b[0m\n\u001b[1;32m    817\u001b[0m     \u001b[0;32mif\u001b[0m \u001b[0mmethod\u001b[0m \u001b[0;34m==\u001b[0m \u001b[0;34m'trf'\u001b[0m\u001b[0;34m:\u001b[0m\u001b[0;34m\u001b[0m\u001b[0;34m\u001b[0m\u001b[0m\n",
      "\u001b[0;32m<ipython-input-54-9b45b7c5a999>\u001b[0m in \u001b[0;36mmmf\u001b[0;34m(beta)\u001b[0m\n\u001b[1;32m     32\u001b[0m         \u001b[0mpenalty\u001b[0m \u001b[0;34m=\u001b[0m \u001b[0;34m[\u001b[0m\u001b[0;34m]\u001b[0m\u001b[0;34m\u001b[0m\u001b[0;34m\u001b[0m\u001b[0m\n\u001b[1;32m     33\u001b[0m         \u001b[0;32mfor\u001b[0m \u001b[0mi\u001b[0m\u001b[0;34m,\u001b[0m \u001b[0msize\u001b[0m \u001b[0;32min\u001b[0m \u001b[0menumerate\u001b[0m\u001b[0;34m(\u001b[0m\u001b[0msizes\u001b[0m\u001b[0;34m)\u001b[0m\u001b[0;34m:\u001b[0m\u001b[0;34m\u001b[0m\u001b[0;34m\u001b[0m\u001b[0m\n\u001b[0;32m---> 34\u001b[0;31m             \u001b[0mpenalty\u001b[0m\u001b[0;34m.\u001b[0m\u001b[0mappend\u001b[0m\u001b[0;34m(\u001b[0m\u001b[0;34m(\u001b[0m\u001b[0mfun\u001b[0m\u001b[0;34m(\u001b[0m\u001b[0msize\u001b[0m\u001b[0;34m)\u001b[0m \u001b[0;34m-\u001b[0m \u001b[0mscores\u001b[0m\u001b[0;34m[\u001b[0m\u001b[0mi\u001b[0m\u001b[0;34m]\u001b[0m\u001b[0;34m)\u001b[0m\u001b[0;34m**\u001b[0m\u001b[0;36m2\u001b[0m\u001b[0;34m)\u001b[0m\u001b[0;34m\u001b[0m\u001b[0;34m\u001b[0m\u001b[0m\n\u001b[0m\u001b[1;32m     35\u001b[0m         \u001b[0;32mreturn\u001b[0m \u001b[0mnp\u001b[0m\u001b[0;34m.\u001b[0m\u001b[0marray\u001b[0m\u001b[0;34m(\u001b[0m\u001b[0mpenalty\u001b[0m\u001b[0;34m)\u001b[0m\u001b[0;34m\u001b[0m\u001b[0;34m\u001b[0m\u001b[0m\n\u001b[1;32m     36\u001b[0m \u001b[0;34m\u001b[0m\u001b[0m\n",
      "\u001b[0;32m<ipython-input-54-9b45b7c5a999>\u001b[0m in \u001b[0;36m<lambda>\u001b[0;34m(x)\u001b[0m\n\u001b[1;32m     29\u001b[0m     \u001b[0;32mdef\u001b[0m \u001b[0mmmf\u001b[0m\u001b[0;34m(\u001b[0m\u001b[0mbeta\u001b[0m\u001b[0;34m)\u001b[0m\u001b[0;34m:\u001b[0m\u001b[0;34m\u001b[0m\u001b[0;34m\u001b[0m\u001b[0m\n\u001b[1;32m     30\u001b[0m         \u001b[0ma\u001b[0m\u001b[0;34m,\u001b[0m \u001b[0mb\u001b[0m\u001b[0;34m,\u001b[0m \u001b[0mc\u001b[0m\u001b[0;34m,\u001b[0m \u001b[0md\u001b[0m \u001b[0;34m=\u001b[0m \u001b[0mtuple\u001b[0m\u001b[0;34m(\u001b[0m\u001b[0mbeta\u001b[0m\u001b[0;34m.\u001b[0m\u001b[0mastype\u001b[0m\u001b[0;34m(\u001b[0m\u001b[0mfloat\u001b[0m\u001b[0;34m)\u001b[0m\u001b[0;34m)\u001b[0m\u001b[0;34m\u001b[0m\u001b[0;34m\u001b[0m\u001b[0m\n\u001b[0;32m---> 31\u001b[0;31m         \u001b[0mfun\u001b[0m \u001b[0;34m=\u001b[0m \u001b[0;32mlambda\u001b[0m \u001b[0mx\u001b[0m\u001b[0;34m:\u001b[0m \u001b[0;34m(\u001b[0m\u001b[0ma\u001b[0m \u001b[0;34m*\u001b[0m \u001b[0mb\u001b[0m \u001b[0;34m+\u001b[0m \u001b[0mc\u001b[0m \u001b[0;34m*\u001b[0m \u001b[0mx\u001b[0m \u001b[0;34m**\u001b[0m \u001b[0md\u001b[0m\u001b[0;34m)\u001b[0m\u001b[0;34m/\u001b[0m\u001b[0;34m(\u001b[0m\u001b[0mb\u001b[0m \u001b[0;34m+\u001b[0m \u001b[0mx\u001b[0m \u001b[0;34m**\u001b[0m \u001b[0md\u001b[0m\u001b[0;34m)\u001b[0m\u001b[0;34m\u001b[0m\u001b[0;34m\u001b[0m\u001b[0m\n\u001b[0m\u001b[1;32m     32\u001b[0m         \u001b[0mpenalty\u001b[0m \u001b[0;34m=\u001b[0m \u001b[0;34m[\u001b[0m\u001b[0;34m]\u001b[0m\u001b[0;34m\u001b[0m\u001b[0;34m\u001b[0m\u001b[0m\n\u001b[1;32m     33\u001b[0m         \u001b[0;32mfor\u001b[0m \u001b[0mi\u001b[0m\u001b[0;34m,\u001b[0m \u001b[0msize\u001b[0m \u001b[0;32min\u001b[0m \u001b[0menumerate\u001b[0m\u001b[0;34m(\u001b[0m\u001b[0msizes\u001b[0m\u001b[0;34m)\u001b[0m\u001b[0;34m:\u001b[0m\u001b[0;34m\u001b[0m\u001b[0;34m\u001b[0m\u001b[0m\n",
      "\u001b[0;31mKeyboardInterrupt\u001b[0m: "
     ]
    }
   ],
   "source": [
    "df_mmf = get_extrapolation_predictions(df.query(\"inner_seed < 5\"), get_mmf)"
   ]
  },
  {
   "cell_type": "code",
   "execution_count": 125,
   "id": "9432e09b",
   "metadata": {},
   "outputs": [
    {
     "data": {
      "application/vnd.jupyter.widget-view+json": {
       "model_id": "e48a200d7bbc493bb6fb9bd684099325",
       "version_major": 2,
       "version_minor": 0
      },
      "text/plain": [
       "  0%|          | 0/50000 [00:00<?, ?it/s]"
      ]
     },
     "metadata": {},
     "output_type": "display_data"
    }
   ],
   "source": [
    "def get_monotonicity_violations(df, is_increasing):\n",
    "    rows = []\n",
    "    pbar = tqdm(total = len(pd.unique(df[\"openmlid\"])) * len(pd.unique(df[\"learner\"])) * 25)\n",
    "    for openmlid, df_dataset in df.groupby(\"openmlid\"):\n",
    "        for learner, df_learner in df_dataset.groupby(\"learner\"):\n",
    "            for (inner, outer), df_seeded in df_learner.groupby([\"inner_seed\", \"outer_seed\"]):\n",
    "                sizes, scores = df_seeded[\"size_train\"].values, df_seeded[\"score_valid\"].values\n",
    "                violation = 0\n",
    "                for i, (a1, s1) in enumerate(zip(sizes[:-1], scores[:-1])):\n",
    "                    a2 = sizes[i + 1]\n",
    "                    s2 = scores[i + 1]\n",
    "                    violation += max(0, s1 - s2)\n",
    "                rows.append([openmlid, learner, outer, inner, violation])\n",
    "                pbar.update(1)\n",
    "    pbar.close()\n",
    "    return pd.DataFrame(rows, columns=[\"openmlid\", \"learner\", \"outer_seed\", \"inner_seed\", \"total_violation\"])\n",
    "\n",
    "def get_monotonicities(df):\n",
    "    rows = []\n",
    "    pbar = tqdm(total = len(pd.unique(df[\"openmlid\"])) * len(pd.unique(df[\"learner\"])) * 25)\n",
    "    for openmlid, df_dataset in df.groupby(\"openmlid\"):\n",
    "        for learner, df_learner in df_dataset.groupby(\"learner\"):\n",
    "            for (inner, outer), df_seeded in df_learner.groupby([\"inner_seed\", \"outer_seed\"]):\n",
    "                sizes, scores = df_seeded[\"size_train\"].values, df_seeded[\"score_valid\"].values\n",
    "                for i, (a1, s1) in enumerate(zip(sizes[:-2], scores[:-2])):\n",
    "                    a2 = sizes[i + 2]\n",
    "                    s2 = scores[i + 2]\n",
    "                    A = np.vstack([[a1, a2], np.ones(2)]).T\n",
    "                    m, c = np.linalg.lstsq(A, [s1, s2])[0]\n",
    "                    required_for_convexity = m * sizes[i+1] + c\n",
    "                    seen = scores[i+1]\n",
    "                    print(seen > required_for_convexity)\n",
    "                    \n",
    "                    \n",
    "                #    rows.append([openmlid, learner, outer, inner, sizes[offset - 1], sizes, scores, predictions])\n",
    "                pbar.update(1)\n",
    "    pbar.close()\n",
    "    \n",
    "df_violations = get_monotonicity_violations(df, True)"
   ]
  },
  {
   "cell_type": "code",
   "execution_count": 126,
   "id": "eb126215",
   "metadata": {},
   "outputs": [
    {
     "data": {
      "text/html": [
       "<div>\n",
       "<style scoped>\n",
       "    .dataframe tbody tr th:only-of-type {\n",
       "        vertical-align: middle;\n",
       "    }\n",
       "\n",
       "    .dataframe tbody tr th {\n",
       "        vertical-align: top;\n",
       "    }\n",
       "\n",
       "    .dataframe thead th {\n",
       "        text-align: right;\n",
       "    }\n",
       "</style>\n",
       "<table border=\"1\" class=\"dataframe\">\n",
       "  <thead>\n",
       "    <tr style=\"text-align: right;\">\n",
       "      <th></th>\n",
       "      <th>openmlid</th>\n",
       "      <th>learner</th>\n",
       "      <th>outer_seed</th>\n",
       "      <th>inner_seed</th>\n",
       "      <th>total_violation</th>\n",
       "    </tr>\n",
       "  </thead>\n",
       "  <tbody>\n",
       "    <tr>\n",
       "      <th>0</th>\n",
       "      <td>3</td>\n",
       "      <td>SVC_linear</td>\n",
       "      <td>0</td>\n",
       "      <td>0</td>\n",
       "      <td>0.0139</td>\n",
       "    </tr>\n",
       "    <tr>\n",
       "      <th>1</th>\n",
       "      <td>3</td>\n",
       "      <td>SVC_linear</td>\n",
       "      <td>1</td>\n",
       "      <td>0</td>\n",
       "      <td>0.0383</td>\n",
       "    </tr>\n",
       "    <tr>\n",
       "      <th>2</th>\n",
       "      <td>3</td>\n",
       "      <td>SVC_linear</td>\n",
       "      <td>2</td>\n",
       "      <td>0</td>\n",
       "      <td>0.0417</td>\n",
       "    </tr>\n",
       "    <tr>\n",
       "      <th>3</th>\n",
       "      <td>3</td>\n",
       "      <td>SVC_linear</td>\n",
       "      <td>3</td>\n",
       "      <td>0</td>\n",
       "      <td>0.0070</td>\n",
       "    </tr>\n",
       "    <tr>\n",
       "      <th>4</th>\n",
       "      <td>3</td>\n",
       "      <td>SVC_linear</td>\n",
       "      <td>4</td>\n",
       "      <td>0</td>\n",
       "      <td>0.0243</td>\n",
       "    </tr>\n",
       "    <tr>\n",
       "      <th>...</th>\n",
       "      <td>...</td>\n",
       "      <td>...</td>\n",
       "      <td>...</td>\n",
       "      <td>...</td>\n",
       "      <td>...</td>\n",
       "    </tr>\n",
       "    <tr>\n",
       "      <th>66692</th>\n",
       "      <td>910</td>\n",
       "      <td>sklearn.tree.ExtraTreeClassifier</td>\n",
       "      <td>0</td>\n",
       "      <td>4</td>\n",
       "      <td>0.4224</td>\n",
       "    </tr>\n",
       "    <tr>\n",
       "      <th>66693</th>\n",
       "      <td>910</td>\n",
       "      <td>sklearn.tree.ExtraTreeClassifier</td>\n",
       "      <td>1</td>\n",
       "      <td>4</td>\n",
       "      <td>0.3779</td>\n",
       "    </tr>\n",
       "    <tr>\n",
       "      <th>66694</th>\n",
       "      <td>910</td>\n",
       "      <td>sklearn.tree.ExtraTreeClassifier</td>\n",
       "      <td>2</td>\n",
       "      <td>4</td>\n",
       "      <td>0.4334</td>\n",
       "    </tr>\n",
       "    <tr>\n",
       "      <th>66695</th>\n",
       "      <td>910</td>\n",
       "      <td>sklearn.tree.ExtraTreeClassifier</td>\n",
       "      <td>3</td>\n",
       "      <td>4</td>\n",
       "      <td>0.2777</td>\n",
       "    </tr>\n",
       "    <tr>\n",
       "      <th>66696</th>\n",
       "      <td>910</td>\n",
       "      <td>sklearn.tree.ExtraTreeClassifier</td>\n",
       "      <td>4</td>\n",
       "      <td>4</td>\n",
       "      <td>0.1444</td>\n",
       "    </tr>\n",
       "  </tbody>\n",
       "</table>\n",
       "<p>66697 rows × 5 columns</p>\n",
       "</div>"
      ],
      "text/plain": [
       "       openmlid                           learner  outer_seed  inner_seed  \\\n",
       "0             3                        SVC_linear           0           0   \n",
       "1             3                        SVC_linear           1           0   \n",
       "2             3                        SVC_linear           2           0   \n",
       "3             3                        SVC_linear           3           0   \n",
       "4             3                        SVC_linear           4           0   \n",
       "...         ...                               ...         ...         ...   \n",
       "66692       910  sklearn.tree.ExtraTreeClassifier           0           4   \n",
       "66693       910  sklearn.tree.ExtraTreeClassifier           1           4   \n",
       "66694       910  sklearn.tree.ExtraTreeClassifier           2           4   \n",
       "66695       910  sklearn.tree.ExtraTreeClassifier           3           4   \n",
       "66696       910  sklearn.tree.ExtraTreeClassifier           4           4   \n",
       "\n",
       "       total_violation  \n",
       "0               0.0139  \n",
       "1               0.0383  \n",
       "2               0.0417  \n",
       "3               0.0070  \n",
       "4               0.0243  \n",
       "...                ...  \n",
       "66692           0.4224  \n",
       "66693           0.3779  \n",
       "66694           0.4334  \n",
       "66695           0.2777  \n",
       "66696           0.1444  \n",
       "\n",
       "[66697 rows x 5 columns]"
      ]
     },
     "execution_count": 126,
     "metadata": {},
     "output_type": "execute_result"
    }
   ],
   "source": [
    "df_violations[df_violations[\"total_violation\"] < ]"
   ]
  },
  {
   "cell_type": "code",
   "execution_count": 79,
   "id": "93522773",
   "metadata": {},
   "outputs": [
    {
     "data": {
      "text/plain": [
       "[<matplotlib.lines.Line2D at 0x7f1df97bcc90>]"
      ]
     },
     "execution_count": 79,
     "metadata": {},
     "output_type": "execute_result"
    },
    {
     "data": {
      "image/png": "[encoded data removed]",
      "text/plain": [
       "<Figure size 432x288 with 1 Axes>"
      ]
     },
     "metadata": {
      "needs_background": "light"
     },
     "output_type": "display_data"
    }
   ],
   "source": [
    "fig, ax = plt.subplots()\n",
    "ax.plot(df_1[\"max_anchor_seen\"], df_1[\"error\"])\n",
    "ax.plot(df_2[\"max_anchor_seen\"], df_2[\"error\"])"
   ]
  }
 ],
 "metadata": {
  "kernelspec": {
   "display_name": "Python 3",
   "language": "python",
   "name": "python3"
  },
  "language_info": {
   "codemirror_mode": {
    "name": "ipython",
    "version": 3
   },
   "file_extension": ".py",
   "mimetype": "text/x-python",
   "name": "python",
   "nbconvert_exporter": "python",
   "pygments_lexer": "ipython3",
   "version": "3.7.11"
  }
 },
 "nbformat": 4,
 "nbformat_minor": 5
}
